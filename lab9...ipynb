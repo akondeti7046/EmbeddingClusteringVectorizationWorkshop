{
 "cells": [
  {
   "cell_type": "markdown",
   "id": "a67c0fb7",
   "metadata": {},
   "source": [
    "## Using the IMDb Movie Reviews Dataset\n",
    "### Step 1: Dataset Description\n",
    "### IMDb Movie Reviews is a common benchmark NLP dataset containing 50,000 movie reviews, labeled as positive or negative. It is widely available via libraries like tensorflow_datasets or keras.datasets.\n",
    "### Why use it? It has genuine, user-generated text and varied vocabulary, making it ideal for exploring word relations using Word2Vec and GloVe."
   ]
  },
  {
   "cell_type": "markdown",
   "id": "6936188b",
   "metadata": {},
   "source": [
    "## Step 2: Data Preparation\n",
    "### Load the IMDb Dataset:"
   ]
  },
  {
   "cell_type": "code",
   "execution_count": 3,
   "id": "b4285032",
   "metadata": {},
   "outputs": [
    {
     "name": "stdout",
     "output_type": "stream",
     "text": [
      "Requirement already satisfied: tensorflow-datasets in /Users/adhitya/foo/.conda/lib/python3.11/site-packages (4.9.9)\n",
      "Requirement already satisfied: absl-py in /Users/adhitya/foo/.conda/lib/python3.11/site-packages (from tensorflow-datasets) (2.3.1)\n",
      "Requirement already satisfied: dm-tree in /Users/adhitya/foo/.conda/lib/python3.11/site-packages (from tensorflow-datasets) (0.1.9)\n",
      "Requirement already satisfied: etils>=1.9.1 in /Users/adhitya/foo/.conda/lib/python3.11/site-packages (from etils[edc,enp,epath,epy,etree]>=1.9.1; python_version >= \"3.11\"->tensorflow-datasets) (1.13.0)\n",
      "Requirement already satisfied: immutabledict in /Users/adhitya/foo/.conda/lib/python3.11/site-packages (from tensorflow-datasets) (4.2.1)\n",
      "Requirement already satisfied: numpy in /Users/adhitya/foo/.conda/lib/python3.11/site-packages (from tensorflow-datasets) (1.26.4)\n",
      "Requirement already satisfied: promise in /Users/adhitya/foo/.conda/lib/python3.11/site-packages (from tensorflow-datasets) (2.3)\n",
      "Requirement already satisfied: protobuf>=3.20 in /Users/adhitya/foo/.conda/lib/python3.11/site-packages (from tensorflow-datasets) (4.25.8)\n",
      "Requirement already satisfied: psutil in /Users/adhitya/foo/.conda/lib/python3.11/site-packages (from tensorflow-datasets) (7.0.0)\n",
      "Requirement already satisfied: pyarrow in /Users/adhitya/foo/.conda/lib/python3.11/site-packages (from tensorflow-datasets) (21.0.0)\n",
      "Requirement already satisfied: requests>=2.19.0 in /Users/adhitya/foo/.conda/lib/python3.11/site-packages (from tensorflow-datasets) (2.32.3)\n",
      "Requirement already satisfied: simple_parsing in /Users/adhitya/foo/.conda/lib/python3.11/site-packages (from tensorflow-datasets) (0.1.7)\n",
      "Requirement already satisfied: tensorflow-metadata in /Users/adhitya/foo/.conda/lib/python3.11/site-packages (from tensorflow-datasets) (1.17.2)\n",
      "Requirement already satisfied: termcolor in /Users/adhitya/foo/.conda/lib/python3.11/site-packages (from tensorflow-datasets) (3.1.0)\n",
      "Requirement already satisfied: toml in /Users/adhitya/foo/.conda/lib/python3.11/site-packages (from tensorflow-datasets) (0.10.2)\n",
      "Requirement already satisfied: tqdm in /Users/adhitya/foo/.conda/lib/python3.11/site-packages (from tensorflow-datasets) (4.67.1)\n",
      "Requirement already satisfied: wrapt in /Users/adhitya/foo/.conda/lib/python3.11/site-packages (from tensorflow-datasets) (1.17.2)\n",
      "Requirement already satisfied: einops in /Users/adhitya/foo/.conda/lib/python3.11/site-packages (from etils[edc,enp,epath,epy,etree]>=1.9.1; python_version >= \"3.11\"->tensorflow-datasets) (0.8.1)\n",
      "Requirement already satisfied: fsspec in /Users/adhitya/foo/.conda/lib/python3.11/site-packages (from etils[edc,enp,epath,epy,etree]>=1.9.1; python_version >= \"3.11\"->tensorflow-datasets) (2025.5.1)\n",
      "Requirement already satisfied: importlib_resources in /Users/adhitya/foo/.conda/lib/python3.11/site-packages (from etils[edc,enp,epath,epy,etree]>=1.9.1; python_version >= \"3.11\"->tensorflow-datasets) (6.5.2)\n",
      "Requirement already satisfied: typing_extensions in /Users/adhitya/foo/.conda/lib/python3.11/site-packages (from etils[edc,enp,epath,epy,etree]>=1.9.1; python_version >= \"3.11\"->tensorflow-datasets) (4.13.2)\n",
      "Requirement already satisfied: zipp in /Users/adhitya/foo/.conda/lib/python3.11/site-packages (from etils[edc,enp,epath,epy,etree]>=1.9.1; python_version >= \"3.11\"->tensorflow-datasets) (3.21.0)\n",
      "Requirement already satisfied: charset-normalizer<4,>=2 in /Users/adhitya/foo/.conda/lib/python3.11/site-packages (from requests>=2.19.0->tensorflow-datasets) (3.4.2)\n",
      "Requirement already satisfied: idna<4,>=2.5 in /Users/adhitya/foo/.conda/lib/python3.11/site-packages (from requests>=2.19.0->tensorflow-datasets) (3.10)\n",
      "Requirement already satisfied: urllib3<3,>=1.21.1 in /Users/adhitya/foo/.conda/lib/python3.11/site-packages (from requests>=2.19.0->tensorflow-datasets) (2.4.0)\n",
      "Requirement already satisfied: certifi>=2017.4.17 in /Users/adhitya/foo/.conda/lib/python3.11/site-packages (from requests>=2.19.0->tensorflow-datasets) (2025.4.26)\n",
      "Requirement already satisfied: attrs>=18.2.0 in /Users/adhitya/foo/.conda/lib/python3.11/site-packages (from dm-tree->tensorflow-datasets) (25.3.0)\n",
      "Requirement already satisfied: six in /Users/adhitya/foo/.conda/lib/python3.11/site-packages (from promise->tensorflow-datasets) (1.17.0)\n",
      "Requirement already satisfied: docstring-parser<1.0,>=0.15 in /Users/adhitya/foo/.conda/lib/python3.11/site-packages (from simple_parsing->tensorflow-datasets) (0.17.0)\n",
      "Requirement already satisfied: googleapis-common-protos<2,>=1.56.4 in /Users/adhitya/foo/.conda/lib/python3.11/site-packages (from tensorflow-metadata->tensorflow-datasets) (1.70.0)\n",
      "Note: you may need to restart the kernel to use updated packages.\n"
     ]
    },
    {
     "name": "stderr",
     "output_type": "stream",
     "text": [
      "2025-07-30 11:39:42.848596: W tensorflow/core/framework/local_rendezvous.cc:404] Local rendezvous is aborting with status: OUT_OF_RANGE: End of sequence\n"
     ]
    }
   ],
   "source": [
    "%pip install tensorflow-datasets\n",
    "\n",
    "import tensorflow_datasets as tfds\n",
    "\n",
    "# Load the dataset\n",
    "data, info = tfds.load(\"imdb_reviews\", with_info=True, as_supervised=True)\n",
    "train_data, test_data = data['train'], data['test']\n",
    "\n",
    "# Extract the text only\n",
    "train_sentences = [text.decode('utf-8') for text, label in tfds.as_numpy(train_data)]\n"
   ]
  },
  {
   "cell_type": "markdown",
   "id": "ad8a0ff5",
   "metadata": {},
   "source": [
    "## Tokenize and Normalize (using NLTK or similar):"
   ]
  },
  {
   "cell_type": "code",
   "execution_count": 5,
   "id": "9d85632c",
   "metadata": {},
   "outputs": [
    {
     "name": "stderr",
     "output_type": "stream",
     "text": [
      "[nltk_data] Downloading package punkt to /Users/adhitya/nltk_data...\n",
      "[nltk_data]   Package punkt is already up-to-date!\n",
      "[nltk_data] Downloading package punkt_tab to\n",
      "[nltk_data]     /Users/adhitya/nltk_data...\n",
      "[nltk_data]   Unzipping tokenizers/punkt_tab.zip.\n"
     ]
    }
   ],
   "source": [
    "from nltk.tokenize import word_tokenize\n",
    "import nltk\n",
    "nltk.download('punkt')\n",
    "nltk.download('punkt_tab')\n",
    "\n",
    "tokenized_sentences = [word_tokenize(sentence.lower()) for sentence in train_sentences]\n"
   ]
  },
  {
   "cell_type": "markdown",
   "id": "c17858fa",
   "metadata": {},
   "source": [
    "## Step 3: Apply Word2Vec\n",
    "## Train Word2Vec Embeddings:"
   ]
  },
  {
   "cell_type": "code",
   "execution_count": 6,
   "id": "cec0128a",
   "metadata": {},
   "outputs": [],
   "source": [
    "# Train Word2Vec Embeddings:\n",
    "from gensim.models import Word2Vec\n",
    "\n",
    "model_w2v = Word2Vec(sentences=tokenized_sentences, vector_size=100, window=5, min_count=5, workers=4)\n"
   ]
  },
  {
   "cell_type": "code",
   "execution_count": 7,
   "id": "141664d6",
   "metadata": {},
   "outputs": [
    {
     "name": "stdout",
     "output_type": "stream",
     "text": [
      "[('film', 0.9332658052444458), ('flick', 0.7666719555854797), ('show', 0.6752476096153259), ('picture', 0.6544741988182068), ('documentary', 0.6527211666107178), ('it', 0.6361626386642456), ('sequel', 0.629547655582428), ('episode', 0.6200436353683472), ('mess', 0.594041645526886), ('series', 0.5868339538574219)]\n"
     ]
    }
   ],
   "source": [
    "# Example: Finding Similar Words\n",
    "print(model_w2v.wv.most_similar('movie'))\n"
   ]
  },
  {
   "cell_type": "markdown",
   "id": "7b2d0924",
   "metadata": {},
   "source": [
    "## Step 4: Apply GloVe\n",
    "### For GloVe, you can either train new vectors or use existing ones.\n",
    "## Option A: Use Pretrained GloVe: Download from the official Stanford GloVe website. Load the vectors and map them to your vocabulary.\n",
    "## Option B (Advanced): Train Your Own GloVe (requires extra libraries like glove-python-binary and more compute)."
   ]
  },
  {
   "cell_type": "code",
   "execution_count": 13,
   "id": "ed8ac8a9",
   "metadata": {},
   "outputs": [
    {
     "name": "stdout",
     "output_type": "stream",
     "text": [
      "Downloading GloVe embeddings...\n",
      "Done.\n",
      "[('film', 0.9055121541023254), ('movies', 0.8959327340126038), ('films', 0.866355299949646), ('hollywood', 0.8239826560020447), ('comedy', 0.8141382932662964), ('drama', 0.7655293941497803), ('sequel', 0.7644566893577576), ('starring', 0.7473922967910767), ('remake', 0.7330190539360046), ('shows', 0.716720700263977)]\n"
     ]
    }
   ],
   "source": [
    "import os\n",
    "import urllib.request\n",
    "import zipfile\n",
    "from gensim.models import KeyedVectors\n",
    "import io\n",
    "import tempfile\n",
    "\n",
    "url = \"http://nlp.stanford.edu/data/glove.6B.zip\"\n",
    "print(\"Downloading GloVe embeddings...\")\n",
    "with urllib.request.urlopen(url) as response:\n",
    "    with zipfile.ZipFile(io.BytesIO(response.read())) as zip_ref:\n",
    "        with zip_ref.open('glove.6B.100d.txt') as glove_file:\n",
    "            lines = [line.decode('utf-8') for line in glove_file]\n",
    "\n",
    "# Count number of words and dimension size\n",
    "num_lines = len(lines)\n",
    "embedding_dim = len(lines[0].split()) - 1\n",
    "\n",
    "# Write to a temp file with a word2vec header\n",
    "with tempfile.NamedTemporaryFile(delete=False, mode='w', encoding='utf-8') as tmp:\n",
    "    tmp.write(f\"{num_lines} {embedding_dim}\\n\")\n",
    "    for line in lines:\n",
    "        tmp.write(line)\n",
    "    tmp_path = tmp.name\n",
    "\n",
    "print(\"Done.\")\n",
    "\n",
    "# Now load with Gensim\n",
    "glove_vectors = KeyedVectors.load_word2vec_format(tmp_path, binary=False)\n",
    "print(glove_vectors.most_similar('movie'))\n",
    "\n",
    "# Optionally remove the tmp file\n",
    "os.remove(tmp_path)\n"
   ]
  },
  {
   "cell_type": "markdown",
   "id": "8529f19f",
   "metadata": {},
   "source": [
    "## Step 5: Comparison Table (Talking Point)"
   ]
  },
  {
   "cell_type": "markdown",
   "id": "72e5a472",
   "metadata": {},
   "source": [
    "| Feature        | Word2Vec (on IMDb)                           | GloVe (on IMDb/Pretrained)                        |\n",
    "| -------------- | -------------------------------------------- | ------------------------------------------------- |\n",
    "| Approach       | Learns from local context (predictive)        | Learns from global co-occurrence                  |\n",
    "| Setup          | Trained above with 100-dim vectors            | Loaded 100-dim pretrained vectors                 |\n",
    "| Use-case test  | Nearest words to \"actor\": `['actress', ...]` | Nearest words to \"actor\": `['actress', ...]`      |\n",
    "| Strength       | Learns specific movie-review expressions      | Generalizes, often contains richer semantics if pretrained |\n",
    "| Limitation     | Needs more data to robustly capture rare words| May not capture domain slang if not retrained      |\n"
   ]
  },
  {
   "cell_type": "markdown",
   "id": "67f99dc6",
   "metadata": {},
   "source": [
    "##  Talking Point\n",
    "\n",
    "\n",
    "#### Word2Vec vs. GloVe on Real Data: Using IMDb reviews, Word2Vec quickly learns review-specific terminology (e.g., \"plot\" is close to \"story\"), while GloVe’s pretrained vectors often link \"plot\" not only to \"story\" but also to broader terms like \"narrative\" or \"subplots\". For tasks like clustering, both approaches reveal distinct genres or themes—but Word2Vec adapts more to slang and emerging phrases in this particular dataset.\n",
    "#### Summary: This process demonstrates using a genuine real-world text dataset in place of the workshop’s toy data, illustrating model training, evaluation, and meaningful comparison between Word2Vec and GloVe embeddings as required by your workshop objectives"
   ]
  },
  {
   "cell_type": "markdown",
   "id": "bb6b6fad",
   "metadata": {},
   "source": []
  }
 ],
 "metadata": {
  "kernelspec": {
   "display_name": "Python 3",
   "language": "python",
   "name": "python3"
  },
  "language_info": {
   "codemirror_mode": {
    "name": "ipython",
    "version": 3
   },
   "file_extension": ".py",
   "mimetype": "text/x-python",
   "name": "python",
   "nbconvert_exporter": "python",
   "pygments_lexer": "ipython3",
   "version": "3.11.11"
  }
 },
 "nbformat": 4,
 "nbformat_minor": 5
}
